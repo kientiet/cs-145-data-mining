{
 "cells": [
  {
   "cell_type": "code",
   "execution_count": 1,
   "id": "8d713ffb-d1b6-4ca4-b7ab-a08e7d9855b4",
   "metadata": {},
   "outputs": [],
   "source": [
    "import os\n",
    "import numpy as np\n",
    "import pandas as pd\n",
    "import matplotlib.pyplot as plt\n",
    "import seaborn as sns"
   ]
  },
  {
   "cell_type": "code",
   "execution_count": 2,
   "id": "eef7e5ea-8b4e-41ba-81ce-4b4997f65407",
   "metadata": {},
   "outputs": [],
   "source": [
    "%load_ext autoreload\n",
    "%autoreload 2"
   ]
  },
  {
   "cell_type": "code",
   "execution_count": 3,
   "id": "13c6257c-7c72-47a2-ac1b-cacb7c96c965",
   "metadata": {},
   "outputs": [],
   "source": [
    "data_dir = os.path.join(os.getcwd(), \"ucla-covid19-prediction\")"
   ]
  },
  {
   "cell_type": "code",
   "execution_count": 4,
   "id": "49bd8d57-5f09-48dd-81fa-b82a8a9033b5",
   "metadata": {},
   "outputs": [
    {
     "data": {
      "text/html": [
       "<div>\n",
       "<style scoped>\n",
       "    .dataframe tbody tr th:only-of-type {\n",
       "        vertical-align: middle;\n",
       "    }\n",
       "\n",
       "    .dataframe tbody tr th {\n",
       "        vertical-align: top;\n",
       "    }\n",
       "\n",
       "    .dataframe thead th {\n",
       "        text-align: right;\n",
       "    }\n",
       "</style>\n",
       "<table border=\"1\" class=\"dataframe\">\n",
       "  <thead>\n",
       "    <tr style=\"text-align: right;\">\n",
       "      <th></th>\n",
       "      <th>Province_State</th>\n",
       "      <th>Date</th>\n",
       "      <th>Confirmed</th>\n",
       "      <th>Deaths</th>\n",
       "      <th>Recovered</th>\n",
       "      <th>Active</th>\n",
       "      <th>Incident_Rate</th>\n",
       "      <th>Total_Test_Results</th>\n",
       "      <th>Case_Fatality_Ratio</th>\n",
       "      <th>Testing_Rate</th>\n",
       "    </tr>\n",
       "  </thead>\n",
       "  <tbody>\n",
       "    <tr>\n",
       "      <th>0</th>\n",
       "      <td>Alabama</td>\n",
       "      <td>01-12-2021</td>\n",
       "      <td>407848</td>\n",
       "      <td>5573</td>\n",
       "      <td>211684.0</td>\n",
       "      <td>190591.0</td>\n",
       "      <td>8318.021857</td>\n",
       "      <td>1981019.0</td>\n",
       "      <td>1.366440</td>\n",
       "      <td>40402.697430</td>\n",
       "    </tr>\n",
       "    <tr>\n",
       "      <th>1</th>\n",
       "      <td>Alaska</td>\n",
       "      <td>01-12-2021</td>\n",
       "      <td>50544</td>\n",
       "      <td>225</td>\n",
       "      <td>7165.0</td>\n",
       "      <td>43132.0</td>\n",
       "      <td>6906.205360</td>\n",
       "      <td>1357708.0</td>\n",
       "      <td>0.445351</td>\n",
       "      <td>185594.597735</td>\n",
       "    </tr>\n",
       "    <tr>\n",
       "      <th>2</th>\n",
       "      <td>Arizona</td>\n",
       "      <td>01-12-2021</td>\n",
       "      <td>636100</td>\n",
       "      <td>10482</td>\n",
       "      <td>86757.0</td>\n",
       "      <td>538861.0</td>\n",
       "      <td>8739.177523</td>\n",
       "      <td>5742443.0</td>\n",
       "      <td>1.647854</td>\n",
       "      <td>42806.225328</td>\n",
       "    </tr>\n",
       "    <tr>\n",
       "      <th>3</th>\n",
       "      <td>Arkansas</td>\n",
       "      <td>01-12-2021</td>\n",
       "      <td>259553</td>\n",
       "      <td>4121</td>\n",
       "      <td>229700.0</td>\n",
       "      <td>25732.0</td>\n",
       "      <td>8600.724235</td>\n",
       "      <td>2208736.0</td>\n",
       "      <td>1.587730</td>\n",
       "      <td>73190.174047</td>\n",
       "    </tr>\n",
       "    <tr>\n",
       "      <th>4</th>\n",
       "      <td>California</td>\n",
       "      <td>01-12-2021</td>\n",
       "      <td>2832085</td>\n",
       "      <td>31345</td>\n",
       "      <td>NaN</td>\n",
       "      <td>2773506.0</td>\n",
       "      <td>7098.216165</td>\n",
       "      <td>36508384.0</td>\n",
       "      <td>1.110900</td>\n",
       "      <td>92397.696784</td>\n",
       "    </tr>\n",
       "    <tr>\n",
       "      <th>...</th>\n",
       "      <td>...</td>\n",
       "      <td>...</td>\n",
       "      <td>...</td>\n",
       "      <td>...</td>\n",
       "      <td>...</td>\n",
       "      <td>...</td>\n",
       "      <td>...</td>\n",
       "      <td>...</td>\n",
       "      <td>...</td>\n",
       "      <td>...</td>\n",
       "    </tr>\n",
       "    <tr>\n",
       "      <th>3945</th>\n",
       "      <td>Virginia</td>\n",
       "      <td>03-31-2021</td>\n",
       "      <td>618976</td>\n",
       "      <td>10252</td>\n",
       "      <td>NaN</td>\n",
       "      <td>NaN</td>\n",
       "      <td>7251.767584</td>\n",
       "      <td>6466133.0</td>\n",
       "      <td>1.656284</td>\n",
       "      <td>75755.592601</td>\n",
       "    </tr>\n",
       "    <tr>\n",
       "      <th>3946</th>\n",
       "      <td>Washington</td>\n",
       "      <td>03-31-2021</td>\n",
       "      <td>364486</td>\n",
       "      <td>5247</td>\n",
       "      <td>NaN</td>\n",
       "      <td>NaN</td>\n",
       "      <td>4786.488792</td>\n",
       "      <td>5890924.0</td>\n",
       "      <td>1.439561</td>\n",
       "      <td>77360.561731</td>\n",
       "    </tr>\n",
       "    <tr>\n",
       "      <th>3947</th>\n",
       "      <td>West Virginia</td>\n",
       "      <td>03-31-2021</td>\n",
       "      <td>141738</td>\n",
       "      <td>2676</td>\n",
       "      <td>NaN</td>\n",
       "      <td>NaN</td>\n",
       "      <td>7908.837835</td>\n",
       "      <td>2468123.0</td>\n",
       "      <td>1.887991</td>\n",
       "      <td>137718.780881</td>\n",
       "    </tr>\n",
       "    <tr>\n",
       "      <th>3948</th>\n",
       "      <td>Wisconsin</td>\n",
       "      <td>03-31-2021</td>\n",
       "      <td>636041</td>\n",
       "      <td>7315</td>\n",
       "      <td>NaN</td>\n",
       "      <td>NaN</td>\n",
       "      <td>10923.970972</td>\n",
       "      <td>7585402.0</td>\n",
       "      <td>1.150083</td>\n",
       "      <td>130278.883367</td>\n",
       "    </tr>\n",
       "    <tr>\n",
       "      <th>3949</th>\n",
       "      <td>Wyoming</td>\n",
       "      <td>03-31-2021</td>\n",
       "      <td>56310</td>\n",
       "      <td>700</td>\n",
       "      <td>NaN</td>\n",
       "      <td>NaN</td>\n",
       "      <td>9729.438333</td>\n",
       "      <td>683766.0</td>\n",
       "      <td>1.243118</td>\n",
       "      <td>118143.475955</td>\n",
       "    </tr>\n",
       "  </tbody>\n",
       "</table>\n",
       "<p>3950 rows × 10 columns</p>\n",
       "</div>"
      ],
      "text/plain": [
       "     Province_State        Date  Confirmed  Deaths  Recovered     Active  \\\n",
       "0           Alabama  01-12-2021     407848    5573   211684.0   190591.0   \n",
       "1            Alaska  01-12-2021      50544     225     7165.0    43132.0   \n",
       "2           Arizona  01-12-2021     636100   10482    86757.0   538861.0   \n",
       "3          Arkansas  01-12-2021     259553    4121   229700.0    25732.0   \n",
       "4        California  01-12-2021    2832085   31345        NaN  2773506.0   \n",
       "...             ...         ...        ...     ...        ...        ...   \n",
       "3945       Virginia  03-31-2021     618976   10252        NaN        NaN   \n",
       "3946     Washington  03-31-2021     364486    5247        NaN        NaN   \n",
       "3947  West Virginia  03-31-2021     141738    2676        NaN        NaN   \n",
       "3948      Wisconsin  03-31-2021     636041    7315        NaN        NaN   \n",
       "3949        Wyoming  03-31-2021      56310     700        NaN        NaN   \n",
       "\n",
       "      Incident_Rate  Total_Test_Results  Case_Fatality_Ratio   Testing_Rate  \n",
       "0       8318.021857           1981019.0             1.366440   40402.697430  \n",
       "1       6906.205360           1357708.0             0.445351  185594.597735  \n",
       "2       8739.177523           5742443.0             1.647854   42806.225328  \n",
       "3       8600.724235           2208736.0             1.587730   73190.174047  \n",
       "4       7098.216165          36508384.0             1.110900   92397.696784  \n",
       "...             ...                 ...                  ...            ...  \n",
       "3945    7251.767584           6466133.0             1.656284   75755.592601  \n",
       "3946    4786.488792           5890924.0             1.439561   77360.561731  \n",
       "3947    7908.837835           2468123.0             1.887991  137718.780881  \n",
       "3948   10923.970972           7585402.0             1.150083  130278.883367  \n",
       "3949    9729.438333            683766.0             1.243118  118143.475955  \n",
       "\n",
       "[3950 rows x 10 columns]"
      ]
     },
     "execution_count": 4,
     "metadata": {},
     "output_type": "execute_result"
    }
   ],
   "source": [
    "# Class dataset\n",
    "dataset = pd.read_csv(os.path.join(data_dir, \"train_trendency.csv\"), index_col=0)\n",
    "dataset"
   ]
  },
  {
   "cell_type": "code",
   "execution_count": 5,
   "id": "0de56fd8-2524-497e-860b-be81b883d7ce",
   "metadata": {},
   "outputs": [
    {
     "data": {
      "text/html": [
       "<div>\n",
       "<style scoped>\n",
       "    .dataframe tbody tr th:only-of-type {\n",
       "        vertical-align: middle;\n",
       "    }\n",
       "\n",
       "    .dataframe tbody tr th {\n",
       "        vertical-align: top;\n",
       "    }\n",
       "\n",
       "    .dataframe thead th {\n",
       "        text-align: right;\n",
       "    }\n",
       "</style>\n",
       "<table border=\"1\" class=\"dataframe\">\n",
       "  <thead>\n",
       "    <tr style=\"text-align: right;\">\n",
       "      <th></th>\n",
       "      <th>Province_State</th>\n",
       "      <th>Confirmed</th>\n",
       "      <th>Deaths</th>\n",
       "      <th>Recovered</th>\n",
       "      <th>Active</th>\n",
       "      <th>Incident_Rate</th>\n",
       "      <th>Total_Test_Results</th>\n",
       "      <th>Case_Fatality_Ratio</th>\n",
       "      <th>Testing_Rate</th>\n",
       "      <th>Date</th>\n",
       "    </tr>\n",
       "  </thead>\n",
       "  <tbody>\n",
       "    <tr>\n",
       "      <th>0</th>\n",
       "      <td>Alabama</td>\n",
       "      <td>515866</td>\n",
       "      <td>10553</td>\n",
       "      <td>NaN</td>\n",
       "      <td>NaN</td>\n",
       "      <td>10521.038876</td>\n",
       "      <td>2406977.0</td>\n",
       "      <td>2.045686</td>\n",
       "      <td>49090.071046</td>\n",
       "      <td>04-01-2021</td>\n",
       "    </tr>\n",
       "    <tr>\n",
       "      <th>1</th>\n",
       "      <td>Alaska</td>\n",
       "      <td>63298</td>\n",
       "      <td>313</td>\n",
       "      <td>NaN</td>\n",
       "      <td>NaN</td>\n",
       "      <td>8637.746140</td>\n",
       "      <td>1904230.0</td>\n",
       "      <td>0.495339</td>\n",
       "      <td>260302.510440</td>\n",
       "      <td>04-01-2021</td>\n",
       "    </tr>\n",
       "    <tr>\n",
       "      <th>2</th>\n",
       "      <td>Arizona</td>\n",
       "      <td>842192</td>\n",
       "      <td>16977</td>\n",
       "      <td>NaN</td>\n",
       "      <td>NaN</td>\n",
       "      <td>11570.610590</td>\n",
       "      <td>8533893.0</td>\n",
       "      <td>2.015811</td>\n",
       "      <td>117244.467672</td>\n",
       "      <td>04-01-2021</td>\n",
       "    </tr>\n",
       "    <tr>\n",
       "      <th>3</th>\n",
       "      <td>Arkansas</td>\n",
       "      <td>330609</td>\n",
       "      <td>5636</td>\n",
       "      <td>NaN</td>\n",
       "      <td>NaN</td>\n",
       "      <td>10955.284041</td>\n",
       "      <td>2857923.0</td>\n",
       "      <td>1.704733</td>\n",
       "      <td>94702.074754</td>\n",
       "      <td>04-01-2021</td>\n",
       "    </tr>\n",
       "    <tr>\n",
       "      <th>4</th>\n",
       "      <td>California</td>\n",
       "      <td>3671349</td>\n",
       "      <td>59411</td>\n",
       "      <td>NaN</td>\n",
       "      <td>NaN</td>\n",
       "      <td>9291.679185</td>\n",
       "      <td>53786487.0</td>\n",
       "      <td>1.618234</td>\n",
       "      <td>136126.198215</td>\n",
       "      <td>04-01-2021</td>\n",
       "    </tr>\n",
       "    <tr>\n",
       "      <th>...</th>\n",
       "      <td>...</td>\n",
       "      <td>...</td>\n",
       "      <td>...</td>\n",
       "      <td>...</td>\n",
       "      <td>...</td>\n",
       "      <td>...</td>\n",
       "      <td>...</td>\n",
       "      <td>...</td>\n",
       "      <td>...</td>\n",
       "      <td>...</td>\n",
       "    </tr>\n",
       "    <tr>\n",
       "      <th>1495</th>\n",
       "      <td>Virginia</td>\n",
       "      <td>659590</td>\n",
       "      <td>10770</td>\n",
       "      <td>NaN</td>\n",
       "      <td>NaN</td>\n",
       "      <td>7727.591023</td>\n",
       "      <td>7014294.0</td>\n",
       "      <td>1.632833</td>\n",
       "      <td>82177.709405</td>\n",
       "      <td>04-30-2021</td>\n",
       "    </tr>\n",
       "    <tr>\n",
       "      <th>1496</th>\n",
       "      <td>Washington</td>\n",
       "      <td>403040</td>\n",
       "      <td>5499</td>\n",
       "      <td>NaN</td>\n",
       "      <td>NaN</td>\n",
       "      <td>5292.786123</td>\n",
       "      <td>6508152.0</td>\n",
       "      <td>1.364381</td>\n",
       "      <td>85466.099130</td>\n",
       "      <td>04-30-2021</td>\n",
       "    </tr>\n",
       "    <tr>\n",
       "      <th>1497</th>\n",
       "      <td>West Virginia</td>\n",
       "      <td>153128</td>\n",
       "      <td>2679</td>\n",
       "      <td>NaN</td>\n",
       "      <td>NaN</td>\n",
       "      <td>8544.388379</td>\n",
       "      <td>2738468.0</td>\n",
       "      <td>1.749517</td>\n",
       "      <td>152803.759959</td>\n",
       "      <td>04-30-2021</td>\n",
       "    </tr>\n",
       "    <tr>\n",
       "      <th>1498</th>\n",
       "      <td>Wisconsin</td>\n",
       "      <td>660450</td>\n",
       "      <td>7550</td>\n",
       "      <td>NaN</td>\n",
       "      <td>NaN</td>\n",
       "      <td>11343.194272</td>\n",
       "      <td>8255143.0</td>\n",
       "      <td>1.143160</td>\n",
       "      <td>141781.650080</td>\n",
       "      <td>04-30-2021</td>\n",
       "    </tr>\n",
       "    <tr>\n",
       "      <th>1499</th>\n",
       "      <td>Wyoming</td>\n",
       "      <td>58142</td>\n",
       "      <td>707</td>\n",
       "      <td>NaN</td>\n",
       "      <td>NaN</td>\n",
       "      <td>10045.977687</td>\n",
       "      <td>724041.0</td>\n",
       "      <td>1.215988</td>\n",
       "      <td>125102.331022</td>\n",
       "      <td>04-30-2021</td>\n",
       "    </tr>\n",
       "  </tbody>\n",
       "</table>\n",
       "<p>1500 rows × 10 columns</p>\n",
       "</div>"
      ],
      "text/plain": [
       "     Province_State  Confirmed  Deaths  Recovered  Active  Incident_Rate  \\\n",
       "0           Alabama     515866   10553        NaN     NaN   10521.038876   \n",
       "1            Alaska      63298     313        NaN     NaN    8637.746140   \n",
       "2           Arizona     842192   16977        NaN     NaN   11570.610590   \n",
       "3          Arkansas     330609    5636        NaN     NaN   10955.284041   \n",
       "4        California    3671349   59411        NaN     NaN    9291.679185   \n",
       "...             ...        ...     ...        ...     ...            ...   \n",
       "1495       Virginia     659590   10770        NaN     NaN    7727.591023   \n",
       "1496     Washington     403040    5499        NaN     NaN    5292.786123   \n",
       "1497  West Virginia     153128    2679        NaN     NaN    8544.388379   \n",
       "1498      Wisconsin     660450    7550        NaN     NaN   11343.194272   \n",
       "1499        Wyoming      58142     707        NaN     NaN   10045.977687   \n",
       "\n",
       "      Total_Test_Results  Case_Fatality_Ratio   Testing_Rate        Date  \n",
       "0              2406977.0             2.045686   49090.071046  04-01-2021  \n",
       "1              1904230.0             0.495339  260302.510440  04-01-2021  \n",
       "2              8533893.0             2.015811  117244.467672  04-01-2021  \n",
       "3              2857923.0             1.704733   94702.074754  04-01-2021  \n",
       "4             53786487.0             1.618234  136126.198215  04-01-2021  \n",
       "...                  ...                  ...            ...         ...  \n",
       "1495           7014294.0             1.632833   82177.709405  04-30-2021  \n",
       "1496           6508152.0             1.364381   85466.099130  04-30-2021  \n",
       "1497           2738468.0             1.749517  152803.759959  04-30-2021  \n",
       "1498           8255143.0             1.143160  141781.650080  04-30-2021  \n",
       "1499            724041.0             1.215988  125102.331022  04-30-2021  \n",
       "\n",
       "[1500 rows x 10 columns]"
      ]
     },
     "execution_count": 5,
     "metadata": {},
     "output_type": "execute_result"
    }
   ],
   "source": [
    "test_dataset = pd.read_csv(os.path.join(data_dir, \"test_data.csv\"), index_col=0)\n",
    "test_dataset"
   ]
  },
  {
   "cell_type": "markdown",
   "id": "d7fb5a67-bd1d-48cd-9d7d-4633f6865c2e",
   "metadata": {},
   "source": [
    "# Visualization"
   ]
  },
  {
   "cell_type": "markdown",
   "id": "341832b8-05e1-4e20-8ff3-cec401b759c0",
   "metadata": {},
   "source": [
    "Delete 2021 from year"
   ]
  },
  {
   "cell_type": "code",
   "execution_count": 6,
   "id": "90f90468-e366-4407-b181-6a5d97ffa5e7",
   "metadata": {},
   "outputs": [],
   "source": [
    "dataset[\"Date\"] = dataset[\"Date\"].map(lambda date: date[:5])"
   ]
  },
  {
   "cell_type": "code",
   "execution_count": 7,
   "id": "ad070e4f-1733-46ef-8025-cae651932d16",
   "metadata": {},
   "outputs": [
    {
     "data": {
      "text/plain": [
       "Province_State            0\n",
       "Date                      0\n",
       "Confirmed                 0\n",
       "Deaths                    0\n",
       "Recovered              1933\n",
       "Active                 1250\n",
       "Incident_Rate             0\n",
       "Total_Test_Results        0\n",
       "Case_Fatality_Ratio       0\n",
       "Testing_Rate              0\n",
       "dtype: int64"
      ]
     },
     "execution_count": 7,
     "metadata": {},
     "output_type": "execute_result"
    }
   ],
   "source": [
    "dataset.isna().sum()"
   ]
  },
  {
   "cell_type": "markdown",
   "id": "dae20065-04ff-40ca-88a6-4253b5ec476f",
   "metadata": {},
   "source": [
    "Group confirmed case by Date"
   ]
  },
  {
   "cell_type": "code",
   "execution_count": 8,
   "id": "9246bf9c-f2af-461a-95a1-a2494281fcc7",
   "metadata": {},
   "outputs": [],
   "source": [
    "new_dataset = dataset.groupby(\"Date\").sum(\"Confirmed\")"
   ]
  },
  {
   "cell_type": "code",
   "execution_count": 9,
   "id": "2fb7ba9f-b9da-43c7-aaf5-2726b7f88b47",
   "metadata": {},
   "outputs": [
    {
     "data": {
      "image/png": "[encoded data removed]",
      "text/plain": [
       "<Figure size 1440x720 with 1 Axes>"
      ]
     },
     "metadata": {
      "needs_background": "light"
     },
     "output_type": "display_data"
    }
   ],
   "source": [
    "figure = plt.figure(figsize=(20, 10))\n",
    "sns.lineplot(x=\"Date\", y=\"Confirmed\", data=new_dataset)\n",
    "plt.title(\"Confirmed case through each date\")\n",
    "plt.show()"
   ]
  },
  {
   "cell_type": "code",
   "execution_count": 10,
   "id": "556bee23-f2ec-4f09-9f66-a3c887ee5598",
   "metadata": {},
   "outputs": [
    {
     "data": {
      "image/png": "[encoded data removed]",
      "text/plain": [
       "<Figure size 1440x720 with 1 Axes>"
      ]
     },
     "metadata": {
      "needs_background": "light"
     },
     "output_type": "display_data"
    }
   ],
   "source": [
    "figure = plt.figure(figsize=(20, 10))\n",
    "sns.lineplot(x=\"Date\", y=\"Deaths\", data=new_dataset)\n",
    "plt.title(\"Deaths case through each date\")\n",
    "plt.show()"
   ]
  },
  {
   "cell_type": "code",
   "execution_count": 11,
   "id": "d3c4163b-6b2c-4a42-97fa-89a19751e6b5",
   "metadata": {},
   "outputs": [],
   "source": [
    "california = dataset.loc[dataset[\"Province_State\"] == \"California\"]"
   ]
  },
  {
   "cell_type": "code",
   "execution_count": 12,
   "id": "cb0eccf7-dd66-42aa-96e5-ccd2cbef1ce5",
   "metadata": {},
   "outputs": [
    {
     "data": {
      "image/png": "[encoded data removed]",
      "text/plain": [
       "<Figure size 1440x720 with 1 Axes>"
      ]
     },
     "metadata": {
      "needs_background": "light"
     },
     "output_type": "display_data"
    }
   ],
   "source": [
    "figure = plt.figure(figsize=(20, 10))\n",
    "sns.lineplot(x=\"Date\", y=\"Confirmed\", data=california)\n",
    "plt.show()"
   ]
  },
  {
   "cell_type": "markdown",
   "id": "b77fdb00-ed7e-4c41-a0cb-36da8937be1a",
   "metadata": {},
   "source": [
    "# Pre-processing data"
   ]
  },
  {
   "cell_type": "code",
   "execution_count": 13,
   "id": "d512fef0-c845-4456-b926-12bed29abe03",
   "metadata": {},
   "outputs": [],
   "source": [
    "dataset[\"Date\"] = dataset[\"Date\"].map(lambda date: date[:5])"
   ]
  },
  {
   "cell_type": "code",
   "execution_count": 14,
   "id": "7ad9af26-b88d-4d64-b24a-c54cad2351f6",
   "metadata": {},
   "outputs": [],
   "source": [
    "new_dataset = dataset.copy(deep=True)"
   ]
  },
  {
   "cell_type": "code",
   "execution_count": 15,
   "id": "b8ec749e-d8ed-424f-8dd0-3e3d9e493e8a",
   "metadata": {},
   "outputs": [
    {
     "data": {
      "text/html": [
       "<div>\n",
       "<style scoped>\n",
       "    .dataframe tbody tr th:only-of-type {\n",
       "        vertical-align: middle;\n",
       "    }\n",
       "\n",
       "    .dataframe tbody tr th {\n",
       "        vertical-align: top;\n",
       "    }\n",
       "\n",
       "    .dataframe thead th {\n",
       "        text-align: right;\n",
       "    }\n",
       "</style>\n",
       "<table border=\"1\" class=\"dataframe\">\n",
       "  <thead>\n",
       "    <tr style=\"text-align: right;\">\n",
       "      <th></th>\n",
       "      <th>Province_State</th>\n",
       "      <th>Date</th>\n",
       "      <th>Confirmed</th>\n",
       "      <th>Deaths</th>\n",
       "      <th>Recovered</th>\n",
       "      <th>Active</th>\n",
       "      <th>Incident_Rate</th>\n",
       "      <th>Total_Test_Results</th>\n",
       "      <th>Case_Fatality_Ratio</th>\n",
       "      <th>Testing_Rate</th>\n",
       "    </tr>\n",
       "  </thead>\n",
       "  <tbody>\n",
       "    <tr>\n",
       "      <th>0</th>\n",
       "      <td>Alabama</td>\n",
       "      <td>01-12</td>\n",
       "      <td>407848</td>\n",
       "      <td>5573</td>\n",
       "      <td>211684.0</td>\n",
       "      <td>190591.0</td>\n",
       "      <td>8318.021857</td>\n",
       "      <td>1981019.0</td>\n",
       "      <td>1.366440</td>\n",
       "      <td>40402.697430</td>\n",
       "    </tr>\n",
       "    <tr>\n",
       "      <th>1</th>\n",
       "      <td>Alaska</td>\n",
       "      <td>01-12</td>\n",
       "      <td>50544</td>\n",
       "      <td>225</td>\n",
       "      <td>7165.0</td>\n",
       "      <td>43132.0</td>\n",
       "      <td>6906.205360</td>\n",
       "      <td>1357708.0</td>\n",
       "      <td>0.445351</td>\n",
       "      <td>185594.597735</td>\n",
       "    </tr>\n",
       "    <tr>\n",
       "      <th>2</th>\n",
       "      <td>Arizona</td>\n",
       "      <td>01-12</td>\n",
       "      <td>636100</td>\n",
       "      <td>10482</td>\n",
       "      <td>86757.0</td>\n",
       "      <td>538861.0</td>\n",
       "      <td>8739.177523</td>\n",
       "      <td>5742443.0</td>\n",
       "      <td>1.647854</td>\n",
       "      <td>42806.225328</td>\n",
       "    </tr>\n",
       "    <tr>\n",
       "      <th>3</th>\n",
       "      <td>Arkansas</td>\n",
       "      <td>01-12</td>\n",
       "      <td>259553</td>\n",
       "      <td>4121</td>\n",
       "      <td>229700.0</td>\n",
       "      <td>25732.0</td>\n",
       "      <td>8600.724235</td>\n",
       "      <td>2208736.0</td>\n",
       "      <td>1.587730</td>\n",
       "      <td>73190.174047</td>\n",
       "    </tr>\n",
       "    <tr>\n",
       "      <th>4</th>\n",
       "      <td>California</td>\n",
       "      <td>01-12</td>\n",
       "      <td>2832085</td>\n",
       "      <td>31345</td>\n",
       "      <td>NaN</td>\n",
       "      <td>2773506.0</td>\n",
       "      <td>7098.216165</td>\n",
       "      <td>36508384.0</td>\n",
       "      <td>1.110900</td>\n",
       "      <td>92397.696784</td>\n",
       "    </tr>\n",
       "    <tr>\n",
       "      <th>...</th>\n",
       "      <td>...</td>\n",
       "      <td>...</td>\n",
       "      <td>...</td>\n",
       "      <td>...</td>\n",
       "      <td>...</td>\n",
       "      <td>...</td>\n",
       "      <td>...</td>\n",
       "      <td>...</td>\n",
       "      <td>...</td>\n",
       "      <td>...</td>\n",
       "    </tr>\n",
       "    <tr>\n",
       "      <th>3945</th>\n",
       "      <td>Virginia</td>\n",
       "      <td>03-31</td>\n",
       "      <td>618976</td>\n",
       "      <td>10252</td>\n",
       "      <td>NaN</td>\n",
       "      <td>NaN</td>\n",
       "      <td>7251.767584</td>\n",
       "      <td>6466133.0</td>\n",
       "      <td>1.656284</td>\n",
       "      <td>75755.592601</td>\n",
       "    </tr>\n",
       "    <tr>\n",
       "      <th>3946</th>\n",
       "      <td>Washington</td>\n",
       "      <td>03-31</td>\n",
       "      <td>364486</td>\n",
       "      <td>5247</td>\n",
       "      <td>NaN</td>\n",
       "      <td>NaN</td>\n",
       "      <td>4786.488792</td>\n",
       "      <td>5890924.0</td>\n",
       "      <td>1.439561</td>\n",
       "      <td>77360.561731</td>\n",
       "    </tr>\n",
       "    <tr>\n",
       "      <th>3947</th>\n",
       "      <td>West Virginia</td>\n",
       "      <td>03-31</td>\n",
       "      <td>141738</td>\n",
       "      <td>2676</td>\n",
       "      <td>NaN</td>\n",
       "      <td>NaN</td>\n",
       "      <td>7908.837835</td>\n",
       "      <td>2468123.0</td>\n",
       "      <td>1.887991</td>\n",
       "      <td>137718.780881</td>\n",
       "    </tr>\n",
       "    <tr>\n",
       "      <th>3948</th>\n",
       "      <td>Wisconsin</td>\n",
       "      <td>03-31</td>\n",
       "      <td>636041</td>\n",
       "      <td>7315</td>\n",
       "      <td>NaN</td>\n",
       "      <td>NaN</td>\n",
       "      <td>10923.970972</td>\n",
       "      <td>7585402.0</td>\n",
       "      <td>1.150083</td>\n",
       "      <td>130278.883367</td>\n",
       "    </tr>\n",
       "    <tr>\n",
       "      <th>3949</th>\n",
       "      <td>Wyoming</td>\n",
       "      <td>03-31</td>\n",
       "      <td>56310</td>\n",
       "      <td>700</td>\n",
       "      <td>NaN</td>\n",
       "      <td>NaN</td>\n",
       "      <td>9729.438333</td>\n",
       "      <td>683766.0</td>\n",
       "      <td>1.243118</td>\n",
       "      <td>118143.475955</td>\n",
       "    </tr>\n",
       "  </tbody>\n",
       "</table>\n",
       "<p>3950 rows × 10 columns</p>\n",
       "</div>"
      ],
      "text/plain": [
       "     Province_State   Date  Confirmed  Deaths  Recovered     Active  \\\n",
       "0           Alabama  01-12     407848    5573   211684.0   190591.0   \n",
       "1            Alaska  01-12      50544     225     7165.0    43132.0   \n",
       "2           Arizona  01-12     636100   10482    86757.0   538861.0   \n",
       "3          Arkansas  01-12     259553    4121   229700.0    25732.0   \n",
       "4        California  01-12    2832085   31345        NaN  2773506.0   \n",
       "...             ...    ...        ...     ...        ...        ...   \n",
       "3945       Virginia  03-31     618976   10252        NaN        NaN   \n",
       "3946     Washington  03-31     364486    5247        NaN        NaN   \n",
       "3947  West Virginia  03-31     141738    2676        NaN        NaN   \n",
       "3948      Wisconsin  03-31     636041    7315        NaN        NaN   \n",
       "3949        Wyoming  03-31      56310     700        NaN        NaN   \n",
       "\n",
       "      Incident_Rate  Total_Test_Results  Case_Fatality_Ratio   Testing_Rate  \n",
       "0       8318.021857           1981019.0             1.366440   40402.697430  \n",
       "1       6906.205360           1357708.0             0.445351  185594.597735  \n",
       "2       8739.177523           5742443.0             1.647854   42806.225328  \n",
       "3       8600.724235           2208736.0             1.587730   73190.174047  \n",
       "4       7098.216165          36508384.0             1.110900   92397.696784  \n",
       "...             ...                 ...                  ...            ...  \n",
       "3945    7251.767584           6466133.0             1.656284   75755.592601  \n",
       "3946    4786.488792           5890924.0             1.439561   77360.561731  \n",
       "3947    7908.837835           2468123.0             1.887991  137718.780881  \n",
       "3948   10923.970972           7585402.0             1.150083  130278.883367  \n",
       "3949    9729.438333            683766.0             1.243118  118143.475955  \n",
       "\n",
       "[3950 rows x 10 columns]"
      ]
     },
     "execution_count": 15,
     "metadata": {},
     "output_type": "execute_result"
    }
   ],
   "source": [
    "new_dataset"
   ]
  },
  {
   "cell_type": "markdown",
   "id": "a0fb0740-5190-4570-a6d7-81d1cd824b25",
   "metadata": {},
   "source": [
    "# Baseline model"
   ]
  },
  {
   "cell_type": "code",
   "execution_count": 16,
   "id": "0da6d8d5-ec8b-4319-bf7a-28abb93573d4",
   "metadata": {},
   "outputs": [],
   "source": [
    "from sklearn.linear_model import LinearRegression\n",
    "from model import learning_process_with_full_dataset\n",
    "from utils import cumulative\n",
    "\n",
    "result = learning_process_with_full_dataset(dataset, LinearRegression(), smooth_function=cumulative)"
   ]
  },
  {
   "cell_type": "code",
   "execution_count": 17,
   "id": "5a076368-b157-4828-bb61-f57eed68c726",
   "metadata": {},
   "outputs": [
    {
     "data": {
      "text/plain": [
       "[44.547657093489214, 44.53841654247223]"
      ]
     },
     "execution_count": 17,
     "metadata": {},
     "output_type": "execute_result"
    }
   ],
   "source": [
    "result[0]"
   ]
  },
  {
   "cell_type": "markdown",
   "id": "9c7dc6b8-e09f-464a-8561-913c24a5bfe6",
   "metadata": {},
   "source": [
    "# LSTM Model"
   ]
  },
  {
   "cell_type": "code",
   "execution_count": 22,
   "id": "5d310b77-2be3-4053-a92f-f5b86f46259f",
   "metadata": {},
   "outputs": [
    {
     "name": "stdout",
     "output_type": "stream",
     "text": [
      ">> At epoch 0\n",
      ">> At epoch 1\n",
      ">> At epoch 2\n",
      ">> At epoch 3\n",
      ">> At epoch 4\n",
      ">> At epoch 5\n",
      ">> At epoch 6\n",
      ">> At epoch 7\n",
      ">> At epoch 8\n",
      ">> At epoch 9\n"
     ]
    },
    {
     "data": {
      "image/png": "[encoded data removed]",
      "text/plain": [
       "<Figure size 432x288 with 1 Axes>"
      ]
     },
     "metadata": {
      "needs_background": "light"
     },
     "output_type": "display_data"
    },
    {
     "name": "stdout",
     "output_type": "stream",
     "text": [
      "Final performance\n",
      "[  70284.305 4204896.5  ]\n"
     ]
    }
   ],
   "source": [
    "from lstm import LSTMTrainer\n",
    "\n",
    "trainer = LSTMTrainer(dataset, val_dataset=None)\n",
    "trainer.fit()"
   ]
  },
  {
   "cell_type": "markdown",
   "id": "d00edd80-2563-4c0b-bda2-9b348d10f39a",
   "metadata": {},
   "source": [
    "# Test on external testset"
   ]
  },
  {
   "cell_type": "code",
   "execution_count": null,
   "id": "d3493738-90e1-4f05-8582-d7a4c5b42bfa",
   "metadata": {},
   "outputs": [],
   "source": [
    "from model import learning_process_with_external_test\n",
    "from sklearn.linear_model import LinearRegression\n",
    "from utils import cumulative\n",
    "\n",
    "result = learning_process_with_external_test(dataset, test_dataset, LinearRegression(), smooth_function=heuristic_smooth)"
   ]
  },
  {
   "cell_type": "code",
   "execution_count": null,
   "id": "c1a8ad06-cb87-410e-b9ee-a1792eb810d0",
   "metadata": {},
   "outputs": [],
   "source": [
    "result[0]"
   ]
  }
 ],
 "metadata": {
  "kernelspec": {
   "display_name": "Python 3",
   "language": "python",
   "name": "python3"
  },
  "language_info": {
   "codemirror_mode": {
    "name": "ipython",
    "version": 3
   },
   "file_extension": ".py",
   "mimetype": "text/x-python",
   "name": "python",
   "nbconvert_exporter": "python",
   "pygments_lexer": "ipython3",
   "version": "3.8.6"
  }
 },
 "nbformat": 4,
 "nbformat_minor": 5
}
