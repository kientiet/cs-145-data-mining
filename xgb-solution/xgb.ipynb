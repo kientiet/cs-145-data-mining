{
 "metadata": {
  "language_info": {
   "codemirror_mode": {
    "name": "ipython",
    "version": 3
   },
   "file_extension": ".py",
   "mimetype": "text/x-python",
   "name": "python",
   "nbconvert_exporter": "python",
   "pygments_lexer": "ipython3",
   "version": "3.8.5"
  },
  "orig_nbformat": 2,
  "kernelspec": {
   "name": "python385jvsc74a57bd03410afedb74081d81603511028deadddc25ba0f01c14e0cb891e2c2473f81884",
   "display_name": "Python 3.8.5 64-bit"
  }
 },
 "nbformat": 4,
 "nbformat_minor": 2,
 "cells": [
  {
   "cell_type": "code",
   "execution_count": 3,
   "metadata": {},
   "outputs": [],
   "source": [
    "# Libraries\n",
    "import pandas as pd\n",
    "import os\n",
    "import numpy as np\n",
    "from matplotlib import pyplot as plt\n",
    "import datetime as dt\n",
    "import xgboost as xgb\n",
    "from sklearn import preprocessing\n",
    "\n",
    "# Written code\n",
    "import utils\n",
    "import preprocess"
   ]
  },
  {
   "cell_type": "code",
   "execution_count": 4,
   "metadata": {},
   "outputs": [],
   "source": [
    "train = pd.read_csv('train_trendency.csv')\n",
    "test = pd.read_csv('test.csv')"
   ]
  },
  {
   "cell_type": "code",
   "execution_count": 5,
   "metadata": {},
   "outputs": [],
   "source": [
    "TRAIN_START = train.Date.min()\n",
    "TEST_START = test.Date.min()\n",
    "TRAIN_END = train.Date.max()\n",
    "TEST_END = test.Date.max()\n",
    "\n",
    "DATEFORMAT = '%m-%d-%Y'"
   ]
  },
  {
   "cell_type": "code",
   "execution_count": 6,
   "metadata": {},
   "outputs": [],
   "source": [
    "def generate_prediction():\n",
    "    train, test = preprocess.get_data()\n",
    "    train_clean = preprocess.process_by_state(train)\n",
    "    train_clean = train_clean[[\n",
    "        'Province_State', 'Date', 'LogConfirmed', \n",
    "        'LogDeaths', 'LogConfirmedDelta', 'LogDeathsDelta', 'encoded_location'\n",
    "    ]]\n",
    "    train_features = preprocess.generate_rolling_features(train_clean)\n",
    "\n",
    "    features = [\n",
    "        'logc_7d', 'logd_7d', 'logc_3d', 'logd_3d', 'encoded_location',\n",
    "        'logc_1d', 'logd_1d', 'logc_0d', 'logd_0d', 'dc_ratio'\n",
    "    ]\n",
    "\n",
    "    config = dict(\n",
    "        min_child_weight=5,\n",
    "        eta=0.01, colsample_bytree=0.8, \n",
    "        max_depth=5, subsample=0.9, nthread=2, booster='gbtree',\n",
    "        eval_metric='rmse', objective='reg:squarederror'\n",
    "    )\n",
    "\n",
    "    data = train_features[(train_features.Date >= TRAIN_START) & (train_features.Date < TRAIN_END)].copy()\n",
    "    data['day_until'] = -(pd.to_datetime(train_features.Date) - dt.datetime.strptime(TRAIN_END, DATEFORMAT)).dt.days\n",
    "\n",
    "    dm_logc = xgb.DMatrix(data[features].round(2), label=data.LogConfirmedDelta, weight=utils.calc_weight(data.day_until))\n",
    "    dm_logd = xgb.DMatrix(data[features].round(2), label=data.LogDeathsDelta, weight=utils.calc_weight(data.day_until))\n",
    "\n",
    "    model_lc = xgb.train(config, dm_logc, 800, evals=[(dm_logc, 'train-logc')], verbose_eval=100)\n",
    "    model_lf = xgb.train(config, dm_logd, 800, evals=[(dm_logd, 'train-logd')], verbose_eval=100)\n",
    "\n",
    "    # Predict\n",
    "    predictions = Xtr.copy()\n",
    "    predictions = train_features[(train_features.Date >= TRAIN_START) & (train_features.Date <= TRAIN_END)].copy()\n",
    "    predictions.LogConfirmedDelta = np.nan\n",
    "    predictions.LogFatalitiesDelta = np.nan\n",
    "    \n",
    "    decay = 0.99\n",
    "    for i, d in enumerate(pd.date_range(TRAIN_END, add_days(TEST_END, 1)).strftime(DATEFORMAT)):\n",
    "        last_day = str(d).split(' ')[0]\n",
    "        next_day = dt.datetime.strptime(last_day, DATEFORMAT) + dt.timedelta(days=1)\n",
    "        next_day = next_day.strftime(DATEFORMAT)\n",
    "\n",
    "        p_next_day = predictions[predictions.Date == last_day].copy()\n",
    "        p_next_day.Date = next_day\n",
    "        p_next_day['p_logc'] = model_lc.predict(xgb.DMatrix(p_next_day[features].round(2)))\n",
    "        p_next_day['p_logd'] = model_lf.predict(xgb.DMatrix(p_next_day[features].round(2)))\n",
    "\n",
    "        p_next_day.LogConfirmed = p_next_day.LogConfirmed + np.clip(p_next_day['p_logc'], 0, None) * decay ** i\n",
    "        p_next_day.LogDeaths = p_next_day.LogDeaths + np.clip(p_next_day['p_logd'], 0, None) * decay ** i\n",
    "\n",
    "        predictions = pd.concat([predictions, p_next_day], sort=True)\n",
    "        predictions = preprocess.generate_rolling_features(predictions)\n",
    "\n",
    "    predictions['p_expc'] = utils.to_exp(predictions.LogConfirmed)\n",
    "    predictions['p_expd'] = utils.to_exp(predictions.LogDeaths)\n",
    "    return predictions"
   ]
  },
  {
   "cell_type": "code",
   "execution_count": 7,
   "metadata": {},
   "outputs": [
    {
     "output_type": "error",
     "ename": "NameError",
     "evalue": "name 'weighting' is not defined",
     "traceback": [
      "\u001b[1;31m---------------------------------------------------------------------------\u001b[0m",
      "\u001b[1;31mNameError\u001b[0m                                 Traceback (most recent call last)",
      "\u001b[1;32m<ipython-input-7-ce2fa3340b4d>\u001b[0m in \u001b[0;36m<module>\u001b[1;34m\u001b[0m\n\u001b[1;32m----> 1\u001b[1;33m \u001b[0mresult\u001b[0m \u001b[1;33m=\u001b[0m \u001b[0mgenerate_prediction\u001b[0m\u001b[1;33m(\u001b[0m\u001b[1;33m)\u001b[0m\u001b[1;33m\u001b[0m\u001b[1;33m\u001b[0m\u001b[0m\n\u001b[0m",
      "\u001b[1;32m<ipython-input-6-61f2fdc18b61>\u001b[0m in \u001b[0;36mgenerate_prediction\u001b[1;34m()\u001b[0m\n\u001b[0;32m     23\u001b[0m     \u001b[0mdata\u001b[0m\u001b[1;33m[\u001b[0m\u001b[1;34m'day_until'\u001b[0m\u001b[1;33m]\u001b[0m \u001b[1;33m=\u001b[0m \u001b[1;33m-\u001b[0m\u001b[1;33m(\u001b[0m\u001b[0mpd\u001b[0m\u001b[1;33m.\u001b[0m\u001b[0mto_datetime\u001b[0m\u001b[1;33m(\u001b[0m\u001b[0mtrain_features\u001b[0m\u001b[1;33m.\u001b[0m\u001b[0mDate\u001b[0m\u001b[1;33m)\u001b[0m \u001b[1;33m-\u001b[0m \u001b[0mdt\u001b[0m\u001b[1;33m.\u001b[0m\u001b[0mdatetime\u001b[0m\u001b[1;33m.\u001b[0m\u001b[0mstrptime\u001b[0m\u001b[1;33m(\u001b[0m\u001b[0mTRAIN_END\u001b[0m\u001b[1;33m,\u001b[0m \u001b[0mDATEFORMAT\u001b[0m\u001b[1;33m)\u001b[0m\u001b[1;33m)\u001b[0m\u001b[1;33m.\u001b[0m\u001b[0mdt\u001b[0m\u001b[1;33m.\u001b[0m\u001b[0mdays\u001b[0m\u001b[1;33m\u001b[0m\u001b[1;33m\u001b[0m\u001b[0m\n\u001b[0;32m     24\u001b[0m \u001b[1;33m\u001b[0m\u001b[0m\n\u001b[1;32m---> 25\u001b[1;33m     \u001b[0mdm_logc\u001b[0m \u001b[1;33m=\u001b[0m \u001b[0mxgb\u001b[0m\u001b[1;33m.\u001b[0m\u001b[0mDMatrix\u001b[0m\u001b[1;33m(\u001b[0m\u001b[0mdata\u001b[0m\u001b[1;33m[\u001b[0m\u001b[0mfeatures\u001b[0m\u001b[1;33m]\u001b[0m\u001b[1;33m.\u001b[0m\u001b[0mround\u001b[0m\u001b[1;33m(\u001b[0m\u001b[1;36m2\u001b[0m\u001b[1;33m)\u001b[0m\u001b[1;33m,\u001b[0m \u001b[0mlabel\u001b[0m\u001b[1;33m=\u001b[0m\u001b[0mdata\u001b[0m\u001b[1;33m.\u001b[0m\u001b[0mLogConfirmedDelta\u001b[0m\u001b[1;33m,\u001b[0m \u001b[0mweight\u001b[0m\u001b[1;33m=\u001b[0m\u001b[0mweighting\u001b[0m\u001b[1;33m(\u001b[0m\u001b[0mdata\u001b[0m\u001b[1;33m.\u001b[0m\u001b[0mday_until\u001b[0m\u001b[1;33m)\u001b[0m\u001b[1;33m)\u001b[0m\u001b[1;33m\u001b[0m\u001b[1;33m\u001b[0m\u001b[0m\n\u001b[0m\u001b[0;32m     26\u001b[0m     \u001b[0mdm_logd\u001b[0m \u001b[1;33m=\u001b[0m \u001b[0mxgb\u001b[0m\u001b[1;33m.\u001b[0m\u001b[0mDMatrix\u001b[0m\u001b[1;33m(\u001b[0m\u001b[0mdata\u001b[0m\u001b[1;33m[\u001b[0m\u001b[0mfeatures\u001b[0m\u001b[1;33m]\u001b[0m\u001b[1;33m.\u001b[0m\u001b[0mround\u001b[0m\u001b[1;33m(\u001b[0m\u001b[1;36m2\u001b[0m\u001b[1;33m)\u001b[0m\u001b[1;33m,\u001b[0m \u001b[0mlabel\u001b[0m\u001b[1;33m=\u001b[0m\u001b[0mdata\u001b[0m\u001b[1;33m.\u001b[0m\u001b[0mLogDeathsDelta\u001b[0m\u001b[1;33m,\u001b[0m \u001b[0mweight\u001b[0m\u001b[1;33m=\u001b[0m\u001b[0mweighting\u001b[0m\u001b[1;33m(\u001b[0m\u001b[0mdata\u001b[0m\u001b[1;33m.\u001b[0m\u001b[0mday_until\u001b[0m\u001b[1;33m)\u001b[0m\u001b[1;33m)\u001b[0m\u001b[1;33m\u001b[0m\u001b[1;33m\u001b[0m\u001b[0m\n\u001b[0;32m     27\u001b[0m \u001b[1;33m\u001b[0m\u001b[0m\n",
      "\u001b[1;31mNameError\u001b[0m: name 'weighting' is not defined"
     ]
    }
   ],
   "source": [
    "result = generate_prediction()"
   ]
  },
  {
   "cell_type": "code",
   "execution_count": 20,
   "metadata": {},
   "outputs": [
    {
     "output_type": "execute_result",
     "data": {
      "text/plain": [
       "      Unnamed: 0 Province_State        Date     Confirmed        Deaths  \\\n",
       "0              0        Alabama  04-01-2021  5.165745e+05  10587.738842   \n",
       "1              1         Alaska  04-01-2021  6.308200e+04    314.273532   \n",
       "2              2        Arizona  04-01-2021  8.437897e+05  17021.516377   \n",
       "3              3       Arkansas  04-01-2021  3.311289e+05   5640.734224   \n",
       "4              4     California  04-01-2021  3.674327e+06  59521.646742   \n",
       "...          ...            ...         ...           ...           ...   \n",
       "1495        1495       Virginia  04-30-2021  6.633125e+05  11046.683725   \n",
       "1496        1496     Washington  04-30-2021  4.103313e+05   5803.064392   \n",
       "1497        1497  West Virginia  04-30-2021  1.535403e+05   3123.211396   \n",
       "1498        1498      Wisconsin  04-30-2021  6.661854e+05   8206.887416   \n",
       "1499        1499        Wyoming  04-30-2021  5.936580e+04    771.652311   \n",
       "\n",
       "      DC_Ratio  EncodedLocation  LogConfirmed  LogConfirmedDelta  LogDeaths  \\\n",
       "0     0.020498                0     13.154977                NaN   9.267546   \n",
       "1     0.004998                1     11.052207                NaN   5.753441   \n",
       "2     0.020174                2     13.645660                NaN   9.742292   \n",
       "3     0.017038                3     12.710266                NaN   8.637947   \n",
       "4     0.016200                4     15.116881                NaN  10.994112   \n",
       "...        ...              ...           ...                ...        ...   \n",
       "1495  0.016655               45     13.405003                NaN   9.309976   \n",
       "1496  0.014145               46     12.924723                NaN   8.666314   \n",
       "1497  0.020348               47     11.941725                NaN   8.046937   \n",
       "1498  0.012321               48     13.409325                NaN   9.012851   \n",
       "1499  0.013015               49     10.991490                NaN   6.649829   \n",
       "\n",
       "      ...  Rolled_LogDeaths_10d  Rolled_LogDeaths_1d  Rolled_LogDeaths_21d  \\\n",
       "0     ...              9.253112             9.264355              9.237469   \n",
       "1     ...              5.739793             5.749393              5.723585   \n",
       "2     ...              9.725915             9.739084              9.708810   \n",
       "3     ...              8.620652             8.635332              8.597482   \n",
       "4     ...             10.962371            10.989943             10.929117   \n",
       "...   ...                   ...                  ...                   ...   \n",
       "1495  ...              9.286829             9.307740              9.259426   \n",
       "1496  ...              8.634929             8.663150              8.597828   \n",
       "1497  ...              7.999816             8.042445              7.942170   \n",
       "1498  ...              8.979676             9.009686              8.934445   \n",
       "1499  ...              6.615841             6.646525              6.582249   \n",
       "\n",
       "      Rolled_LogDeaths_3d  Rolled_LogDeaths_7d    p_logc    p_logd  \\\n",
       "0                9.261699             9.259607  0.002299  0.003191   \n",
       "1                5.749393             5.749393  0.002873  0.004048   \n",
       "2                9.736193             9.733589  0.002348  0.003208   \n",
       "3                8.630879             8.625509  0.002210  0.002615   \n",
       "4               10.985818            10.974660  0.001520  0.004169   \n",
       "...                   ...                  ...       ...       ...   \n",
       "1495             9.303200             9.293817  0.002710  0.002993   \n",
       "1496             8.656726             8.644439  0.007011  0.004234   \n",
       "1497             8.033324             8.014466  0.003132  0.006012   \n",
       "1498             9.003260             8.990016  0.001893  0.004236   \n",
       "1499             6.639817             6.625990  0.002563  0.004422   \n",
       "\n",
       "            p_expc        p_expd    ID  \n",
       "0     5.165745e+05  10587.738842     0  \n",
       "1     6.308200e+04    314.273532     1  \n",
       "2     8.437897e+05  17021.516377     2  \n",
       "3     3.311289e+05   5640.734224     3  \n",
       "4     3.674327e+06  59521.646742     4  \n",
       "...            ...           ...   ...  \n",
       "1495  6.633125e+05  11046.683725  1495  \n",
       "1496  4.103313e+05   5803.064392  1496  \n",
       "1497  1.535403e+05   3123.211396  1497  \n",
       "1498  6.661854e+05   8206.887416  1498  \n",
       "1499  5.936580e+04    771.652311  1499  \n",
       "\n",
       "[1500 rows x 28 columns]"
      ],
      "text/html": "<div>\n<style scoped>\n    .dataframe tbody tr th:only-of-type {\n        vertical-align: middle;\n    }\n\n    .dataframe tbody tr th {\n        vertical-align: top;\n    }\n\n    .dataframe thead th {\n        text-align: right;\n    }\n</style>\n<table border=\"1\" class=\"dataframe\">\n  <thead>\n    <tr style=\"text-align: right;\">\n      <th></th>\n      <th>Unnamed: 0</th>\n      <th>Province_State</th>\n      <th>Date</th>\n      <th>Confirmed</th>\n      <th>Deaths</th>\n      <th>DC_Ratio</th>\n      <th>EncodedLocation</th>\n      <th>LogConfirmed</th>\n      <th>LogConfirmedDelta</th>\n      <th>LogDeaths</th>\n      <th>...</th>\n      <th>Rolled_LogDeaths_10d</th>\n      <th>Rolled_LogDeaths_1d</th>\n      <th>Rolled_LogDeaths_21d</th>\n      <th>Rolled_LogDeaths_3d</th>\n      <th>Rolled_LogDeaths_7d</th>\n      <th>p_logc</th>\n      <th>p_logd</th>\n      <th>p_expc</th>\n      <th>p_expd</th>\n      <th>ID</th>\n    </tr>\n  </thead>\n  <tbody>\n    <tr>\n      <th>0</th>\n      <td>0</td>\n      <td>Alabama</td>\n      <td>04-01-2021</td>\n      <td>5.165745e+05</td>\n      <td>10587.738842</td>\n      <td>0.020498</td>\n      <td>0</td>\n      <td>13.154977</td>\n      <td>NaN</td>\n      <td>9.267546</td>\n      <td>...</td>\n      <td>9.253112</td>\n      <td>9.264355</td>\n      <td>9.237469</td>\n      <td>9.261699</td>\n      <td>9.259607</td>\n      <td>0.002299</td>\n      <td>0.003191</td>\n      <td>5.165745e+05</td>\n      <td>10587.738842</td>\n      <td>0</td>\n    </tr>\n    <tr>\n      <th>1</th>\n      <td>1</td>\n      <td>Alaska</td>\n      <td>04-01-2021</td>\n      <td>6.308200e+04</td>\n      <td>314.273532</td>\n      <td>0.004998</td>\n      <td>1</td>\n      <td>11.052207</td>\n      <td>NaN</td>\n      <td>5.753441</td>\n      <td>...</td>\n      <td>5.739793</td>\n      <td>5.749393</td>\n      <td>5.723585</td>\n      <td>5.749393</td>\n      <td>5.749393</td>\n      <td>0.002873</td>\n      <td>0.004048</td>\n      <td>6.308200e+04</td>\n      <td>314.273532</td>\n      <td>1</td>\n    </tr>\n    <tr>\n      <th>2</th>\n      <td>2</td>\n      <td>Arizona</td>\n      <td>04-01-2021</td>\n      <td>8.437897e+05</td>\n      <td>17021.516377</td>\n      <td>0.020174</td>\n      <td>2</td>\n      <td>13.645660</td>\n      <td>NaN</td>\n      <td>9.742292</td>\n      <td>...</td>\n      <td>9.725915</td>\n      <td>9.739084</td>\n      <td>9.708810</td>\n      <td>9.736193</td>\n      <td>9.733589</td>\n      <td>0.002348</td>\n      <td>0.003208</td>\n      <td>8.437897e+05</td>\n      <td>17021.516377</td>\n      <td>2</td>\n    </tr>\n    <tr>\n      <th>3</th>\n      <td>3</td>\n      <td>Arkansas</td>\n      <td>04-01-2021</td>\n      <td>3.311289e+05</td>\n      <td>5640.734224</td>\n      <td>0.017038</td>\n      <td>3</td>\n      <td>12.710266</td>\n      <td>NaN</td>\n      <td>8.637947</td>\n      <td>...</td>\n      <td>8.620652</td>\n      <td>8.635332</td>\n      <td>8.597482</td>\n      <td>8.630879</td>\n      <td>8.625509</td>\n      <td>0.002210</td>\n      <td>0.002615</td>\n      <td>3.311289e+05</td>\n      <td>5640.734224</td>\n      <td>3</td>\n    </tr>\n    <tr>\n      <th>4</th>\n      <td>4</td>\n      <td>California</td>\n      <td>04-01-2021</td>\n      <td>3.674327e+06</td>\n      <td>59521.646742</td>\n      <td>0.016200</td>\n      <td>4</td>\n      <td>15.116881</td>\n      <td>NaN</td>\n      <td>10.994112</td>\n      <td>...</td>\n      <td>10.962371</td>\n      <td>10.989943</td>\n      <td>10.929117</td>\n      <td>10.985818</td>\n      <td>10.974660</td>\n      <td>0.001520</td>\n      <td>0.004169</td>\n      <td>3.674327e+06</td>\n      <td>59521.646742</td>\n      <td>4</td>\n    </tr>\n    <tr>\n      <th>...</th>\n      <td>...</td>\n      <td>...</td>\n      <td>...</td>\n      <td>...</td>\n      <td>...</td>\n      <td>...</td>\n      <td>...</td>\n      <td>...</td>\n      <td>...</td>\n      <td>...</td>\n      <td>...</td>\n      <td>...</td>\n      <td>...</td>\n      <td>...</td>\n      <td>...</td>\n      <td>...</td>\n      <td>...</td>\n      <td>...</td>\n      <td>...</td>\n      <td>...</td>\n      <td>...</td>\n    </tr>\n    <tr>\n      <th>1495</th>\n      <td>1495</td>\n      <td>Virginia</td>\n      <td>04-30-2021</td>\n      <td>6.633125e+05</td>\n      <td>11046.683725</td>\n      <td>0.016655</td>\n      <td>45</td>\n      <td>13.405003</td>\n      <td>NaN</td>\n      <td>9.309976</td>\n      <td>...</td>\n      <td>9.286829</td>\n      <td>9.307740</td>\n      <td>9.259426</td>\n      <td>9.303200</td>\n      <td>9.293817</td>\n      <td>0.002710</td>\n      <td>0.002993</td>\n      <td>6.633125e+05</td>\n      <td>11046.683725</td>\n      <td>1495</td>\n    </tr>\n    <tr>\n      <th>1496</th>\n      <td>1496</td>\n      <td>Washington</td>\n      <td>04-30-2021</td>\n      <td>4.103313e+05</td>\n      <td>5803.064392</td>\n      <td>0.014145</td>\n      <td>46</td>\n      <td>12.924723</td>\n      <td>NaN</td>\n      <td>8.666314</td>\n      <td>...</td>\n      <td>8.634929</td>\n      <td>8.663150</td>\n      <td>8.597828</td>\n      <td>8.656726</td>\n      <td>8.644439</td>\n      <td>0.007011</td>\n      <td>0.004234</td>\n      <td>4.103313e+05</td>\n      <td>5803.064392</td>\n      <td>1496</td>\n    </tr>\n    <tr>\n      <th>1497</th>\n      <td>1497</td>\n      <td>West Virginia</td>\n      <td>04-30-2021</td>\n      <td>1.535403e+05</td>\n      <td>3123.211396</td>\n      <td>0.020348</td>\n      <td>47</td>\n      <td>11.941725</td>\n      <td>NaN</td>\n      <td>8.046937</td>\n      <td>...</td>\n      <td>7.999816</td>\n      <td>8.042445</td>\n      <td>7.942170</td>\n      <td>8.033324</td>\n      <td>8.014466</td>\n      <td>0.003132</td>\n      <td>0.006012</td>\n      <td>1.535403e+05</td>\n      <td>3123.211396</td>\n      <td>1497</td>\n    </tr>\n    <tr>\n      <th>1498</th>\n      <td>1498</td>\n      <td>Wisconsin</td>\n      <td>04-30-2021</td>\n      <td>6.661854e+05</td>\n      <td>8206.887416</td>\n      <td>0.012321</td>\n      <td>48</td>\n      <td>13.409325</td>\n      <td>NaN</td>\n      <td>9.012851</td>\n      <td>...</td>\n      <td>8.979676</td>\n      <td>9.009686</td>\n      <td>8.934445</td>\n      <td>9.003260</td>\n      <td>8.990016</td>\n      <td>0.001893</td>\n      <td>0.004236</td>\n      <td>6.661854e+05</td>\n      <td>8206.887416</td>\n      <td>1498</td>\n    </tr>\n    <tr>\n      <th>1499</th>\n      <td>1499</td>\n      <td>Wyoming</td>\n      <td>04-30-2021</td>\n      <td>5.936580e+04</td>\n      <td>771.652311</td>\n      <td>0.013015</td>\n      <td>49</td>\n      <td>10.991490</td>\n      <td>NaN</td>\n      <td>6.649829</td>\n      <td>...</td>\n      <td>6.615841</td>\n      <td>6.646525</td>\n      <td>6.582249</td>\n      <td>6.639817</td>\n      <td>6.625990</td>\n      <td>0.002563</td>\n      <td>0.004422</td>\n      <td>5.936580e+04</td>\n      <td>771.652311</td>\n      <td>1499</td>\n    </tr>\n  </tbody>\n</table>\n<p>1500 rows × 28 columns</p>\n</div>"
     },
     "metadata": {},
     "execution_count": 20
    }
   ],
   "source": [
    "submission = test.copy()\n",
    "submission = submission.merge(result)\n",
    "\n",
    "submission['ID'] = range(0, len(submission))\n",
    "submission['Confirmed'] = submission['p_expc']\n",
    "submission['Deaths'] = submission['p_expd']\n",
    "submission"
   ]
  },
  {
   "cell_type": "code",
   "execution_count": 21,
   "metadata": {},
   "outputs": [],
   "source": [
    "submission[['ID', 'Confirmed', 'Deaths']].to_csv('Team2.csv', index=False)"
   ]
  },
  {
   "cell_type": "code",
   "execution_count": null,
   "metadata": {},
   "outputs": [],
   "source": []
  }
 ]
}