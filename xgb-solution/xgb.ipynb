{
 "metadata": {
  "language_info": {
   "codemirror_mode": {
    "name": "ipython",
    "version": 3
   },
   "file_extension": ".py",
   "mimetype": "text/x-python",
   "name": "python",
   "nbconvert_exporter": "python",
   "pygments_lexer": "ipython3",
   "version": "3.8.5"
  },
  "orig_nbformat": 2,
  "kernelspec": {
   "name": "python385jvsc74a57bd03410afedb74081d81603511028deadddc25ba0f01c14e0cb891e2c2473f81884",
   "display_name": "Python 3.8.5 64-bit"
  }
 },
 "nbformat": 4,
 "nbformat_minor": 2,
 "cells": [
  {
   "cell_type": "code",
   "execution_count": 8,
   "metadata": {},
   "outputs": [],
   "source": [
    "# Libraries\n",
    "import pandas as pd\n",
    "import os\n",
    "import numpy as np\n",
    "from matplotlib import pyplot as plt\n",
    "import datetime as dt\n",
    "import xgboost as xgb\n",
    "from sklearn import preprocessing\n",
    "\n",
    "# Written code\n",
    "import utils\n",
    "import preprocess\n",
    "import model"
   ]
  },
  {
   "cell_type": "code",
   "execution_count": 2,
   "metadata": {},
   "outputs": [],
   "source": [
    "train = pd.read_csv('train_trendency.csv')\n",
    "test = pd.read_csv('test.csv')"
   ]
  },
  {
   "cell_type": "code",
   "execution_count": 3,
   "metadata": {},
   "outputs": [],
   "source": [
    "TRAIN_START = train.Date.min()\n",
    "TEST_START = test.Date.min()\n",
    "TRAIN_END = train.Date.max()\n",
    "TEST_END = test.Date.max()\n",
    "\n",
    "DATEFORMAT = '%m-%d-%Y'"
   ]
  },
  {
   "cell_type": "code",
   "execution_count": 5,
   "metadata": {},
   "outputs": [
    {
     "output_type": "stream",
     "name": "stdout",
     "text": [
      "[0]\ttrain-logc-rmse:0.49179\n",
      "[100]\ttrain-logc-rmse:0.18015\n",
      "[200]\ttrain-logc-rmse:0.06604\n",
      "[300]\ttrain-logc-rmse:0.02432\n",
      "[400]\ttrain-logc-rmse:0.00920\n",
      "[500]\ttrain-logc-rmse:0.00396\n",
      "[600]\ttrain-logc-rmse:0.00241\n",
      "[700]\ttrain-logc-rmse:0.00202\n",
      "[799]\ttrain-logc-rmse:0.00189\n",
      "[0]\ttrain-logd-rmse:0.49114\n",
      "[100]\ttrain-logd-rmse:0.17998\n",
      "[200]\ttrain-logd-rmse:0.06616\n",
      "[300]\ttrain-logd-rmse:0.02488\n",
      "[400]\ttrain-logd-rmse:0.01057\n",
      "[500]\ttrain-logd-rmse:0.00638\n",
      "[600]\ttrain-logd-rmse:0.00545\n",
      "[700]\ttrain-logd-rmse:0.00522\n",
      "[799]\ttrain-logd-rmse:0.00513\n"
     ]
    }
   ],
   "source": [
    "result = model.generate_prediction(TRAIN_START, TEST_START, TRAIN_END, TEST_END)"
   ]
  },
  {
   "cell_type": "code",
   "execution_count": 6,
   "metadata": {},
   "outputs": [
    {
     "output_type": "execute_result",
     "data": {
      "text/plain": [
       "      Unnamed: 0 Province_State        Date     Confirmed        Deaths  \\\n",
       "0              0        Alabama  04-01-2021  5.165771e+05  10588.913455   \n",
       "1              1         Alaska  04-01-2021  6.307851e+04    314.298047   \n",
       "2              2        Arizona  04-01-2021  8.438490e+05  17021.388535   \n",
       "3              3       Arkansas  04-01-2021  3.311303e+05   5641.064455   \n",
       "4              4     California  04-01-2021  3.674318e+06  59522.349216   \n",
       "...          ...            ...         ...           ...           ...   \n",
       "1495        1495       Virginia  04-30-2021  6.630172e+05  11072.512673   \n",
       "1496        1496     Washington  04-30-2021  4.145771e+05   5817.492972   \n",
       "1497        1497  West Virginia  04-30-2021  1.536073e+05   3147.382691   \n",
       "1498        1498      Wisconsin  04-30-2021  6.665152e+05   8253.340372   \n",
       "1499        1499        Wyoming  04-30-2021  5.937679e+04    772.345904   \n",
       "\n",
       "      LogConfirmed  LogConfirmedDelta  LogDeaths  LogDeathsDelta  dc_ratio  \\\n",
       "0        13.154982                NaN   9.267657             NaN  0.020500   \n",
       "1        11.052151                NaN   5.753518             NaN  0.004998   \n",
       "2        13.645730                NaN   9.742285             NaN  0.020172   \n",
       "3        12.710270                NaN   8.638005             NaN  0.017039   \n",
       "4        15.116878                NaN  10.994124             NaN  0.016200   \n",
       "...            ...                ...        ...             ...       ...   \n",
       "1495     13.404558                NaN   9.312311             NaN  0.016702   \n",
       "1496     12.935017                NaN   8.668797             NaN  0.014035   \n",
       "1497     11.942161                NaN   8.054644             NaN  0.020496   \n",
       "1498     13.409820                NaN   9.018494             NaN  0.012384   \n",
       "1499     10.991675                NaN   6.650726             NaN  0.013024   \n",
       "\n",
       "      ...   logd_10d    logd_1d   logd_21d    logd_3d    logd_7d    p_logc  \\\n",
       "0     ...   9.253112   9.264355   9.237469   9.261699   9.259607  0.002305   \n",
       "1     ...   5.739793   5.749393   5.723585   5.749393   5.749393  0.002818   \n",
       "2     ...   9.725915   9.739084   9.708810   9.736193   9.733589  0.002418   \n",
       "3     ...   8.620652   8.635332   8.597482   8.630879   8.625509  0.002214   \n",
       "4     ...  10.962371  10.989943  10.929117  10.985818  10.974660  0.001518   \n",
       "...   ...        ...        ...        ...        ...        ...       ...   \n",
       "1495  ...   9.288853   9.310059   9.260248   9.305487   9.296108  0.002683   \n",
       "1496  ...   8.636297   8.665465   8.598783   8.658799   8.645981  0.007032   \n",
       "1497  ...   8.005541   8.049973   7.945246   8.040490   8.020837  0.003170   \n",
       "1498  ...   8.983786   9.015178   8.937631   9.008446   8.994567  0.001869   \n",
       "1499  ...   6.617046   6.647509   6.582775   6.640975   6.627508  0.002524   \n",
       "\n",
       "        p_logd        p_expc        p_expd    ID  \n",
       "0     0.003302  5.165771e+05  10588.913455     0  \n",
       "1     0.004125  6.307851e+04    314.298047     1  \n",
       "2     0.003200  8.438490e+05  17021.388535     2  \n",
       "3     0.002674  3.311303e+05   5641.064455     3  \n",
       "4     0.004181  3.674318e+06  59522.349216     4  \n",
       "...        ...           ...           ...   ...  \n",
       "1495  0.003014  6.630172e+05  11072.512673  1495  \n",
       "1496  0.004458  4.145771e+05   5817.492972  1496  \n",
       "1497  0.006251  1.536073e+05   3147.382691  1497  \n",
       "1498  0.004438  6.665152e+05   8253.340372  1498  \n",
       "1499  0.004307  5.937679e+04    772.345904  1499  \n",
       "\n",
       "[1500 rows x 28 columns]"
      ],
      "text/html": "<div>\n<style scoped>\n    .dataframe tbody tr th:only-of-type {\n        vertical-align: middle;\n    }\n\n    .dataframe tbody tr th {\n        vertical-align: top;\n    }\n\n    .dataframe thead th {\n        text-align: right;\n    }\n</style>\n<table border=\"1\" class=\"dataframe\">\n  <thead>\n    <tr style=\"text-align: right;\">\n      <th></th>\n      <th>Unnamed: 0</th>\n      <th>Province_State</th>\n      <th>Date</th>\n      <th>Confirmed</th>\n      <th>Deaths</th>\n      <th>LogConfirmed</th>\n      <th>LogConfirmedDelta</th>\n      <th>LogDeaths</th>\n      <th>LogDeathsDelta</th>\n      <th>dc_ratio</th>\n      <th>...</th>\n      <th>logd_10d</th>\n      <th>logd_1d</th>\n      <th>logd_21d</th>\n      <th>logd_3d</th>\n      <th>logd_7d</th>\n      <th>p_logc</th>\n      <th>p_logd</th>\n      <th>p_expc</th>\n      <th>p_expd</th>\n      <th>ID</th>\n    </tr>\n  </thead>\n  <tbody>\n    <tr>\n      <th>0</th>\n      <td>0</td>\n      <td>Alabama</td>\n      <td>04-01-2021</td>\n      <td>5.165771e+05</td>\n      <td>10588.913455</td>\n      <td>13.154982</td>\n      <td>NaN</td>\n      <td>9.267657</td>\n      <td>NaN</td>\n      <td>0.020500</td>\n      <td>...</td>\n      <td>9.253112</td>\n      <td>9.264355</td>\n      <td>9.237469</td>\n      <td>9.261699</td>\n      <td>9.259607</td>\n      <td>0.002305</td>\n      <td>0.003302</td>\n      <td>5.165771e+05</td>\n      <td>10588.913455</td>\n      <td>0</td>\n    </tr>\n    <tr>\n      <th>1</th>\n      <td>1</td>\n      <td>Alaska</td>\n      <td>04-01-2021</td>\n      <td>6.307851e+04</td>\n      <td>314.298047</td>\n      <td>11.052151</td>\n      <td>NaN</td>\n      <td>5.753518</td>\n      <td>NaN</td>\n      <td>0.004998</td>\n      <td>...</td>\n      <td>5.739793</td>\n      <td>5.749393</td>\n      <td>5.723585</td>\n      <td>5.749393</td>\n      <td>5.749393</td>\n      <td>0.002818</td>\n      <td>0.004125</td>\n      <td>6.307851e+04</td>\n      <td>314.298047</td>\n      <td>1</td>\n    </tr>\n    <tr>\n      <th>2</th>\n      <td>2</td>\n      <td>Arizona</td>\n      <td>04-01-2021</td>\n      <td>8.438490e+05</td>\n      <td>17021.388535</td>\n      <td>13.645730</td>\n      <td>NaN</td>\n      <td>9.742285</td>\n      <td>NaN</td>\n      <td>0.020172</td>\n      <td>...</td>\n      <td>9.725915</td>\n      <td>9.739084</td>\n      <td>9.708810</td>\n      <td>9.736193</td>\n      <td>9.733589</td>\n      <td>0.002418</td>\n      <td>0.003200</td>\n      <td>8.438490e+05</td>\n      <td>17021.388535</td>\n      <td>2</td>\n    </tr>\n    <tr>\n      <th>3</th>\n      <td>3</td>\n      <td>Arkansas</td>\n      <td>04-01-2021</td>\n      <td>3.311303e+05</td>\n      <td>5641.064455</td>\n      <td>12.710270</td>\n      <td>NaN</td>\n      <td>8.638005</td>\n      <td>NaN</td>\n      <td>0.017039</td>\n      <td>...</td>\n      <td>8.620652</td>\n      <td>8.635332</td>\n      <td>8.597482</td>\n      <td>8.630879</td>\n      <td>8.625509</td>\n      <td>0.002214</td>\n      <td>0.002674</td>\n      <td>3.311303e+05</td>\n      <td>5641.064455</td>\n      <td>3</td>\n    </tr>\n    <tr>\n      <th>4</th>\n      <td>4</td>\n      <td>California</td>\n      <td>04-01-2021</td>\n      <td>3.674318e+06</td>\n      <td>59522.349216</td>\n      <td>15.116878</td>\n      <td>NaN</td>\n      <td>10.994124</td>\n      <td>NaN</td>\n      <td>0.016200</td>\n      <td>...</td>\n      <td>10.962371</td>\n      <td>10.989943</td>\n      <td>10.929117</td>\n      <td>10.985818</td>\n      <td>10.974660</td>\n      <td>0.001518</td>\n      <td>0.004181</td>\n      <td>3.674318e+06</td>\n      <td>59522.349216</td>\n      <td>4</td>\n    </tr>\n    <tr>\n      <th>...</th>\n      <td>...</td>\n      <td>...</td>\n      <td>...</td>\n      <td>...</td>\n      <td>...</td>\n      <td>...</td>\n      <td>...</td>\n      <td>...</td>\n      <td>...</td>\n      <td>...</td>\n      <td>...</td>\n      <td>...</td>\n      <td>...</td>\n      <td>...</td>\n      <td>...</td>\n      <td>...</td>\n      <td>...</td>\n      <td>...</td>\n      <td>...</td>\n      <td>...</td>\n      <td>...</td>\n    </tr>\n    <tr>\n      <th>1495</th>\n      <td>1495</td>\n      <td>Virginia</td>\n      <td>04-30-2021</td>\n      <td>6.630172e+05</td>\n      <td>11072.512673</td>\n      <td>13.404558</td>\n      <td>NaN</td>\n      <td>9.312311</td>\n      <td>NaN</td>\n      <td>0.016702</td>\n      <td>...</td>\n      <td>9.288853</td>\n      <td>9.310059</td>\n      <td>9.260248</td>\n      <td>9.305487</td>\n      <td>9.296108</td>\n      <td>0.002683</td>\n      <td>0.003014</td>\n      <td>6.630172e+05</td>\n      <td>11072.512673</td>\n      <td>1495</td>\n    </tr>\n    <tr>\n      <th>1496</th>\n      <td>1496</td>\n      <td>Washington</td>\n      <td>04-30-2021</td>\n      <td>4.145771e+05</td>\n      <td>5817.492972</td>\n      <td>12.935017</td>\n      <td>NaN</td>\n      <td>8.668797</td>\n      <td>NaN</td>\n      <td>0.014035</td>\n      <td>...</td>\n      <td>8.636297</td>\n      <td>8.665465</td>\n      <td>8.598783</td>\n      <td>8.658799</td>\n      <td>8.645981</td>\n      <td>0.007032</td>\n      <td>0.004458</td>\n      <td>4.145771e+05</td>\n      <td>5817.492972</td>\n      <td>1496</td>\n    </tr>\n    <tr>\n      <th>1497</th>\n      <td>1497</td>\n      <td>West Virginia</td>\n      <td>04-30-2021</td>\n      <td>1.536073e+05</td>\n      <td>3147.382691</td>\n      <td>11.942161</td>\n      <td>NaN</td>\n      <td>8.054644</td>\n      <td>NaN</td>\n      <td>0.020496</td>\n      <td>...</td>\n      <td>8.005541</td>\n      <td>8.049973</td>\n      <td>7.945246</td>\n      <td>8.040490</td>\n      <td>8.020837</td>\n      <td>0.003170</td>\n      <td>0.006251</td>\n      <td>1.536073e+05</td>\n      <td>3147.382691</td>\n      <td>1497</td>\n    </tr>\n    <tr>\n      <th>1498</th>\n      <td>1498</td>\n      <td>Wisconsin</td>\n      <td>04-30-2021</td>\n      <td>6.665152e+05</td>\n      <td>8253.340372</td>\n      <td>13.409820</td>\n      <td>NaN</td>\n      <td>9.018494</td>\n      <td>NaN</td>\n      <td>0.012384</td>\n      <td>...</td>\n      <td>8.983786</td>\n      <td>9.015178</td>\n      <td>8.937631</td>\n      <td>9.008446</td>\n      <td>8.994567</td>\n      <td>0.001869</td>\n      <td>0.004438</td>\n      <td>6.665152e+05</td>\n      <td>8253.340372</td>\n      <td>1498</td>\n    </tr>\n    <tr>\n      <th>1499</th>\n      <td>1499</td>\n      <td>Wyoming</td>\n      <td>04-30-2021</td>\n      <td>5.937679e+04</td>\n      <td>772.345904</td>\n      <td>10.991675</td>\n      <td>NaN</td>\n      <td>6.650726</td>\n      <td>NaN</td>\n      <td>0.013024</td>\n      <td>...</td>\n      <td>6.617046</td>\n      <td>6.647509</td>\n      <td>6.582775</td>\n      <td>6.640975</td>\n      <td>6.627508</td>\n      <td>0.002524</td>\n      <td>0.004307</td>\n      <td>5.937679e+04</td>\n      <td>772.345904</td>\n      <td>1499</td>\n    </tr>\n  </tbody>\n</table>\n<p>1500 rows × 28 columns</p>\n</div>"
     },
     "metadata": {},
     "execution_count": 6
    }
   ],
   "source": [
    "submission = test.copy()\n",
    "submission = submission.merge(result)\n",
    "\n",
    "submission['ID'] = range(0, len(submission))\n",
    "submission['Confirmed'] = submission['p_expc']\n",
    "submission['Deaths'] = submission['p_expd']\n",
    "submission"
   ]
  },
  {
   "cell_type": "code",
   "execution_count": 7,
   "metadata": {},
   "outputs": [],
   "source": [
    "submission[['ID', 'Confirmed', 'Deaths']].to_csv('Team2.csv', index=False)"
   ]
  },
  {
   "cell_type": "code",
   "execution_count": null,
   "metadata": {},
   "outputs": [],
   "source": []
  }
 ]
}